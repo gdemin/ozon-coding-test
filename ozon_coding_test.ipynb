{
 "cells": [
  {
   "cell_type": "markdown",
   "metadata": {},
   "source": [
    "# Ozon coding interview\n",
    "\n",
    "## Постановка задачи\n",
    "\n",
    "Интервьюером была предложена следующая задача:\n",
    "\n",
    "Написать функцию, которая на вход принимает 2 аргумента - массив чисел(lst) и заданное число(target), - и выводит индексы **2 элементов**, сумма которых равна заданному числу.\n",
    "\n",
    "Пример:\n",
    "```\n",
    "Input: nums = [15, 2, 7, 11, 8], target = 9\n",
    "Output: [1, 2]\n",
    "```\n",
    "\n",
    "После постановки задачи было проговорено, что решение гарантированно существует и оно единственно. Все варианты алгоритмов ниже сильно полагаются на этот факт и не выполняют никаких проверок. В изначальном варианте слова  \"2 элемента\", выделенные  жирным,  были пропущены. После того, как я написал довольно много кода для решения задачи с произвольным количеством элементов, интервьюер заметил, что я закопался и добавил уточнение про два элемента."
   ]
  },
  {
   "cell_type": "markdown",
   "metadata": {},
   "source": [
    "## Алгоритмы решения"
   ]
  },
  {
   "cell_type": "code",
   "execution_count": 73,
   "metadata": {},
   "outputs": [],
   "source": [
    "from timeit import timeit\n",
    "from random import shuffle\n",
    "import pandas as pd\n",
    "import datetime\n",
    "import numpy as np\n",
    "pd.set_option('precision', 3)"
   ]
  },
  {
   "cell_type": "markdown",
   "metadata": {},
   "source": [
    "Мной был предложен очевидный наивный алгоритм с двумя проходами по массиву и сложностью O(N^2)- функция `indexes_naive`."
   ]
  },
  {
   "cell_type": "code",
   "execution_count": 62,
   "metadata": {},
   "outputs": [],
   "source": [
    "def indexes_naive(lst, target):      \n",
    "    for item_i, item1 in enumerate(lst):\n",
    "        for item_j, item2 in enumerate(lst):\n",
    "            if item_i != item_j and item1 + item2 == target:\n",
    "                return [item_i, item_j]"
   ]
  },
  {
   "cell_type": "markdown",
   "metadata": {},
   "source": [
    "Мой собеседник предложил найти однопроходный вариант. За оставшееся время ничего толкового в голову не пришло. Интервьюер в качестве \"однопроходного\" решения написал код ниже - функция `indexes_in`:"
   ]
  },
  {
   "cell_type": "code",
   "execution_count": 11,
   "metadata": {},
   "outputs": [],
   "source": [
    "def indexes_in (lst, target):\n",
    "\tfor i, val in enumerate(lst):\n",
    "\t\tif (target - val) in lst and i != lst.index(target - val):\n",
    "\t\t\treturn [i, lst.index(target - val)]"
   ]
  },
  {
   "cell_type": "markdown",
   "metadata": {},
   "source": [
    "Данное решение дает существенный выигрыш в производительности по сравнению с наивным решением за счет того, что внутренний цикл теперь выполняется на `C`. Однако асимптотика у него остается точно такая же - O(N^2). С моей точки зрения, это нельзя назвать однопроходным вариантом, так как внутренний цикл все равно остается, хоть и замаскированный. Про асимптотическую сложность `in` для списков можно прочесть здесь: https://wiki.python.org/moin/TimeComplexity.\n",
    "Для убедительности приведу исходный код (https://github.com/python/cpython/blob/main/Objects/listobject.c#L431) на C для `in`. Видно, что мы так же пробегаем по списку, как и в Питоне :\n",
    "\n",
    "```c\n",
    "static int\n",
    "list_contains(PyListObject *a, PyObject *el)\n",
    "{\n",
    "    PyObject *item;\n",
    "    Py_ssize_t i;\n",
    "    int cmp;\n",
    "\n",
    "    for (i = 0, cmp = 0 ; cmp == 0 && i < Py_SIZE(a); ++i) {\n",
    "        item = PyList_GET_ITEM(a, i);\n",
    "        Py_INCREF(item);\n",
    "        cmp = PyObject_RichCompareBool(item, el, Py_EQ);\n",
    "        Py_DECREF(item);\n",
    "    }\n",
    "    return cmp;\n",
    "}\n",
    "```"
   ]
  },
  {
   "cell_type": "markdown",
   "metadata": {},
   "source": [
    "Далее интервьюер сказал, что существует хорошее решение O(N*log(N)) - надо предварительно отсортировать список и дальше идти с обоих концов. На этом интервью закончилось.\n",
    "\n",
    "Алгоритм с сортировкой приведен ниже - функция `indexes_sort`:"
   ]
  },
  {
   "cell_type": "code",
   "execution_count": 15,
   "metadata": {},
   "outputs": [],
   "source": [
    "def indexes_sort(lst, target):\n",
    "    sorted_lst, old_index = zip(*sorted(zip(lst, range(len(lst)))))\n",
    "    finger1, finger2 = 0, len(sorted_lst)-1\n",
    "    while finger1 != finger2:\n",
    "        cur_sum = sorted_lst[finger1] + sorted_lst[finger2]\n",
    "        if cur_sum < target:\n",
    "            finger1 += 1\n",
    "        elif cur_sum > target:\n",
    "            finger2 -= 1\n",
    "        else:\n",
    "            return [old_index[finger1], old_index[finger2]] "
   ]
  },
  {
   "cell_type": "markdown",
   "metadata": {},
   "source": [
    "В процессе \"работы надо ошибками\" я нашел на просторах интернета, что возможно решение с асимптотикой O(N). Мы создаем словарь, где ключи - это элементы списка, а значения - это номер элемента. Потом перебираем массив и находим в словаре комплиментарное значение. Так как поиск по ключу в словаре O(1), то получаем то самое однопроходное решение - функция `indexes_fast`:"
   ]
  },
  {
   "cell_type": "code",
   "execution_count": 63,
   "metadata": {},
   "outputs": [],
   "source": [
    "def indexes_fast(lst, target):\n",
    "    # если у нас два одинаковых числа образуют сумму, то словарь попадет индекс последнего\n",
    "    # из-за этого мы не выведем два одинаковых индекса\n",
    "    lst_dict = dict(zip(lst, range(len(lst))))\n",
    "    for index_i, item_i in enumerate(lst):\n",
    "        if target - item_i in lst_dict: \n",
    "            return [index_i, lst_dict[target - item_i]]"
   ]
  },
  {
   "cell_type": "markdown",
   "metadata": {},
   "source": [
    "Небольшая проверка, что все алгоритмы дают один и тот же результат:"
   ]
  },
  {
   "cell_type": "code",
   "execution_count": 65,
   "metadata": {},
   "outputs": [
    {
     "name": "stdout",
     "output_type": "stream",
     "text": [
      "[1, 2]\n",
      "[1, 2]\n",
      "[1, 2]\n",
      "[1, 2]\n"
     ]
    }
   ],
   "source": [
    "nums = [15, 2, 7, 11, 8]\n",
    "target = 9\n",
    "print(indexes_naive(nums, target))\n",
    "print(indexes_in(nums, target))\n",
    "print(indexes_sort(nums, target))\n",
    "print(indexes_fast(nums, target))"
   ]
  },
  {
   "cell_type": "code",
   "execution_count": 66,
   "metadata": {},
   "outputs": [
    {
     "name": "stdout",
     "output_type": "stream",
     "text": [
      "[2, 3]\n",
      "[3, 2]\n",
      "[2, 3]\n",
      "[2, 3]\n"
     ]
    }
   ],
   "source": [
    "nums = [0, 0, 4, 4, 0, 0]\n",
    "target = 8\n",
    "print(indexes_naive(nums, target))\n",
    "print(indexes_in(nums, target))\n",
    "print(indexes_sort(nums, target))\n",
    "print(indexes_fast(nums, target))"
   ]
  },
  {
   "cell_type": "markdown",
   "metadata": {},
   "source": [
    "## Бенчмарки\n",
    "\n",
    "Самая интересная часть - потестируем все алгоритмы на производительность"
   ]
  },
  {
   "cell_type": "code",
   "execution_count": 67,
   "metadata": {},
   "outputs": [
    {
     "name": "stdout",
     "output_type": "stream",
     "text": [
      "2021-12-20 00:57:17.966076 : n = 2\n",
      "2021-12-20 00:57:18.007365 : n = 3\n",
      "2021-12-20 00:57:18.051677 : n = 4\n",
      "2021-12-20 00:57:18.106403 : n = 5\n",
      "2021-12-20 00:57:18.201573 : n = 6\n",
      "2021-12-20 00:57:18.460450 : n = 7\n",
      "2021-12-20 00:57:19.255811 : n = 8\n",
      "2021-12-20 00:57:22.254868 : n = 9\n",
      "2021-12-20 00:57:33.862691 : n = 10\n",
      "2021-12-20 00:58:23.776007 : n = 11\n",
      "2021-12-20 01:01:42.762733 : n = 12\n",
      "2021-12-20 01:15:14.889562 : n = 13\n",
      "2021-12-20 01:15:16.845805 : n = 14\n",
      "2021-12-20 01:15:20.867599 : n = 15\n",
      "2021-12-20 01:15:29.281980 : n = 16\n",
      "2021-12-20 01:15:48.213353 : n = 17\n",
      "2021-12-20 01:16:27.360763 : n = 18\n",
      "2021-12-20 01:17:46.257338 : n = 19\n"
     ]
    }
   ],
   "source": [
    "max_power = 20 # максимальная длина списка (2^max_power), с которым будем мерять производительность\n",
    "max_n2 = 12    # максимальная длина списка для алгоритмов с O(N^2). Иначе просто не дождемся результатов.\n",
    " \n",
    "# словарь, ключ - длина списка без двух элементов, значение - список таймингами\n",
    "timings = {}\n",
    "funs = [lambda: indexes_naive(curr, target), \n",
    "        lambda: indexes_in(curr, target), \n",
    "        lambda: indexes_sort(curr, target),\n",
    "        lambda: indexes_fast(curr, target)\n",
    "        ]\n",
    "for i in range(2, max_power):\n",
    "    timings[i] = [0]*len(funs)\n",
    "    \n",
    "# Мы будем использовать значения 2 и 7, а остальные - нули\n",
    "\n",
    "repeats = 10 # сколько перестановок делать\n",
    "local_repeats = 5 # количество повторений с одинаковым списком\n",
    "\n",
    "for n in timings:\n",
    "\tprint(datetime.datetime.now(), \": n =\", n)\n",
    "\tcurr = [2, 7] + [0]*(2**n)\n",
    "\tfor _ in range(100):\n",
    "\t\tshuffle(curr)\n",
    "\t\t# print(curr)\n",
    "\t\tfor i,_ in enumerate(funs):\n",
    "\t\t\tif n > max_n2 and i<2: continue\n",
    "\t\t\ttimings[n][i] += timeit(funs[i], number = local_repeats)\n",
    "\t\t\t\n",
    "\t\tfor i,_ in enumerate(funs):\n",
    "\t\t\ttimings[n][i] /= local_repeats*repeats\n",
    "\n",
    "# timings"
   ]
  },
  {
   "cell_type": "markdown",
   "metadata": {},
   "source": [
    "Для дальнейшего анализа конвертируем результаты в DataFrame. Выведем сами тайминги и их отношение к таймингу самого быстрого алгоритма."
   ]
  },
  {
   "cell_type": "code",
   "execution_count": 97,
   "metadata": {},
   "outputs": [
    {
     "data": {
      "text/html": [
       "<div>\n",
       "<style scoped>\n",
       "    .dataframe tbody tr th:only-of-type {\n",
       "        vertical-align: middle;\n",
       "    }\n",
       "\n",
       "    .dataframe tbody tr th {\n",
       "        vertical-align: top;\n",
       "    }\n",
       "\n",
       "    .dataframe thead th {\n",
       "        text-align: right;\n",
       "    }\n",
       "</style>\n",
       "<table border=\"1\" class=\"dataframe\">\n",
       "  <thead>\n",
       "    <tr style=\"text-align: right;\">\n",
       "      <th></th>\n",
       "      <th>n</th>\n",
       "      <th>n_elem</th>\n",
       "      <th>indexes_naive</th>\n",
       "      <th>indexes_in</th>\n",
       "      <th>indexes_sort</th>\n",
       "      <th>indexes_fast</th>\n",
       "      <th>ratio_indexes_naive</th>\n",
       "      <th>ratio_indexes_in</th>\n",
       "      <th>ratio_indexes_sort</th>\n",
       "      <th>ratio_indexes_fast</th>\n",
       "    </tr>\n",
       "  </thead>\n",
       "  <tbody>\n",
       "    <tr>\n",
       "      <th>0</th>\n",
       "      <td>2</td>\n",
       "      <td>4</td>\n",
       "      <td>4.667e-07</td>\n",
       "      <td>1.520e-07</td>\n",
       "      <td>3.668e-07</td>\n",
       "      <td>2.761e-07</td>\n",
       "      <td>1.690</td>\n",
       "      <td>0.551</td>\n",
       "      <td>1.328</td>\n",
       "      <td>1.0</td>\n",
       "    </tr>\n",
       "    <tr>\n",
       "      <th>1</th>\n",
       "      <td>3</td>\n",
       "      <td>8</td>\n",
       "      <td>1.017e-06</td>\n",
       "      <td>2.389e-07</td>\n",
       "      <td>4.787e-07</td>\n",
       "      <td>2.615e-07</td>\n",
       "      <td>3.887</td>\n",
       "      <td>0.913</td>\n",
       "      <td>1.830</td>\n",
       "      <td>1.0</td>\n",
       "    </tr>\n",
       "    <tr>\n",
       "      <th>2</th>\n",
       "      <td>4</td>\n",
       "      <td>16</td>\n",
       "      <td>3.115e-06</td>\n",
       "      <td>5.366e-07</td>\n",
       "      <td>7.588e-07</td>\n",
       "      <td>3.409e-07</td>\n",
       "      <td>9.135</td>\n",
       "      <td>1.574</td>\n",
       "      <td>2.226</td>\n",
       "      <td>1.0</td>\n",
       "    </tr>\n",
       "    <tr>\n",
       "      <th>3</th>\n",
       "      <td>5</td>\n",
       "      <td>32</td>\n",
       "      <td>1.358e-05</td>\n",
       "      <td>2.449e-06</td>\n",
       "      <td>2.068e-06</td>\n",
       "      <td>8.103e-07</td>\n",
       "      <td>16.758</td>\n",
       "      <td>3.023</td>\n",
       "      <td>2.552</td>\n",
       "      <td>1.0</td>\n",
       "    </tr>\n",
       "    <tr>\n",
       "      <th>4</th>\n",
       "      <td>6</td>\n",
       "      <td>64</td>\n",
       "      <td>3.310e-05</td>\n",
       "      <td>5.221e-06</td>\n",
       "      <td>2.102e-06</td>\n",
       "      <td>7.997e-07</td>\n",
       "      <td>41.389</td>\n",
       "      <td>6.529</td>\n",
       "      <td>2.628</td>\n",
       "      <td>1.0</td>\n",
       "    </tr>\n",
       "    <tr>\n",
       "      <th>5</th>\n",
       "      <td>7</td>\n",
       "      <td>128</td>\n",
       "      <td>1.267e-04</td>\n",
       "      <td>1.874e-05</td>\n",
       "      <td>3.527e-06</td>\n",
       "      <td>1.437e-06</td>\n",
       "      <td>88.174</td>\n",
       "      <td>13.043</td>\n",
       "      <td>2.455</td>\n",
       "      <td>1.0</td>\n",
       "    </tr>\n",
       "    <tr>\n",
       "      <th>6</th>\n",
       "      <td>8</td>\n",
       "      <td>256</td>\n",
       "      <td>5.368e-04</td>\n",
       "      <td>7.187e-05</td>\n",
       "      <td>7.024e-06</td>\n",
       "      <td>2.790e-06</td>\n",
       "      <td>192.452</td>\n",
       "      <td>25.763</td>\n",
       "      <td>2.518</td>\n",
       "      <td>1.0</td>\n",
       "    </tr>\n",
       "    <tr>\n",
       "      <th>7</th>\n",
       "      <td>9</td>\n",
       "      <td>512</td>\n",
       "      <td>1.972e-03</td>\n",
       "      <td>2.506e-04</td>\n",
       "      <td>1.260e-05</td>\n",
       "      <td>5.061e-06</td>\n",
       "      <td>389.556</td>\n",
       "      <td>49.519</td>\n",
       "      <td>2.490</td>\n",
       "      <td>1.0</td>\n",
       "    </tr>\n",
       "    <tr>\n",
       "      <th>8</th>\n",
       "      <td>10</td>\n",
       "      <td>1024</td>\n",
       "      <td>9.112e-03</td>\n",
       "      <td>1.110e-03</td>\n",
       "      <td>2.828e-05</td>\n",
       "      <td>1.213e-05</td>\n",
       "      <td>751.227</td>\n",
       "      <td>91.553</td>\n",
       "      <td>2.332</td>\n",
       "      <td>1.0</td>\n",
       "    </tr>\n",
       "    <tr>\n",
       "      <th>9</th>\n",
       "      <td>11</td>\n",
       "      <td>2048</td>\n",
       "      <td>3.565e-02</td>\n",
       "      <td>4.210e-03</td>\n",
       "      <td>5.251e-05</td>\n",
       "      <td>2.227e-05</td>\n",
       "      <td>1600.557</td>\n",
       "      <td>189.042</td>\n",
       "      <td>2.358</td>\n",
       "      <td>1.0</td>\n",
       "    </tr>\n",
       "    <tr>\n",
       "      <th>10</th>\n",
       "      <td>12</td>\n",
       "      <td>4096</td>\n",
       "      <td>1.534e-01</td>\n",
       "      <td>1.806e-02</td>\n",
       "      <td>1.042e-04</td>\n",
       "      <td>4.873e-05</td>\n",
       "      <td>3147.183</td>\n",
       "      <td>370.601</td>\n",
       "      <td>2.139</td>\n",
       "      <td>1.0</td>\n",
       "    </tr>\n",
       "    <tr>\n",
       "      <th>11</th>\n",
       "      <td>13</td>\n",
       "      <td>8192</td>\n",
       "      <td>NaN</td>\n",
       "      <td>NaN</td>\n",
       "      <td>1.986e-04</td>\n",
       "      <td>9.639e-05</td>\n",
       "      <td>NaN</td>\n",
       "      <td>NaN</td>\n",
       "      <td>2.060</td>\n",
       "      <td>1.0</td>\n",
       "    </tr>\n",
       "    <tr>\n",
       "      <th>12</th>\n",
       "      <td>14</td>\n",
       "      <td>16384</td>\n",
       "      <td>NaN</td>\n",
       "      <td>NaN</td>\n",
       "      <td>5.095e-04</td>\n",
       "      <td>1.900e-04</td>\n",
       "      <td>NaN</td>\n",
       "      <td>NaN</td>\n",
       "      <td>2.681</td>\n",
       "      <td>1.0</td>\n",
       "    </tr>\n",
       "    <tr>\n",
       "      <th>13</th>\n",
       "      <td>15</td>\n",
       "      <td>32768</td>\n",
       "      <td>NaN</td>\n",
       "      <td>NaN</td>\n",
       "      <td>1.242e-03</td>\n",
       "      <td>3.918e-04</td>\n",
       "      <td>NaN</td>\n",
       "      <td>NaN</td>\n",
       "      <td>3.170</td>\n",
       "      <td>1.0</td>\n",
       "    </tr>\n",
       "    <tr>\n",
       "      <th>14</th>\n",
       "      <td>16</td>\n",
       "      <td>65536</td>\n",
       "      <td>NaN</td>\n",
       "      <td>NaN</td>\n",
       "      <td>2.677e-03</td>\n",
       "      <td>7.930e-04</td>\n",
       "      <td>NaN</td>\n",
       "      <td>NaN</td>\n",
       "      <td>3.375</td>\n",
       "      <td>1.0</td>\n",
       "    </tr>\n",
       "    <tr>\n",
       "      <th>15</th>\n",
       "      <td>17</td>\n",
       "      <td>131072</td>\n",
       "      <td>NaN</td>\n",
       "      <td>NaN</td>\n",
       "      <td>5.149e-03</td>\n",
       "      <td>1.575e-03</td>\n",
       "      <td>NaN</td>\n",
       "      <td>NaN</td>\n",
       "      <td>3.269</td>\n",
       "      <td>1.0</td>\n",
       "    </tr>\n",
       "    <tr>\n",
       "      <th>16</th>\n",
       "      <td>18</td>\n",
       "      <td>262144</td>\n",
       "      <td>NaN</td>\n",
       "      <td>NaN</td>\n",
       "      <td>1.148e-02</td>\n",
       "      <td>3.126e-03</td>\n",
       "      <td>NaN</td>\n",
       "      <td>NaN</td>\n",
       "      <td>3.674</td>\n",
       "      <td>1.0</td>\n",
       "    </tr>\n",
       "    <tr>\n",
       "      <th>17</th>\n",
       "      <td>19</td>\n",
       "      <td>524288</td>\n",
       "      <td>NaN</td>\n",
       "      <td>NaN</td>\n",
       "      <td>2.161e-02</td>\n",
       "      <td>6.315e-03</td>\n",
       "      <td>NaN</td>\n",
       "      <td>NaN</td>\n",
       "      <td>3.422</td>\n",
       "      <td>1.0</td>\n",
       "    </tr>\n",
       "  </tbody>\n",
       "</table>\n",
       "</div>"
      ],
      "text/plain": [
       "     n  n_elem  indexes_naive  indexes_in  indexes_sort  indexes_fast  \\\n",
       "0    2       4      4.667e-07   1.520e-07     3.668e-07     2.761e-07   \n",
       "1    3       8      1.017e-06   2.389e-07     4.787e-07     2.615e-07   \n",
       "2    4      16      3.115e-06   5.366e-07     7.588e-07     3.409e-07   \n",
       "3    5      32      1.358e-05   2.449e-06     2.068e-06     8.103e-07   \n",
       "4    6      64      3.310e-05   5.221e-06     2.102e-06     7.997e-07   \n",
       "5    7     128      1.267e-04   1.874e-05     3.527e-06     1.437e-06   \n",
       "6    8     256      5.368e-04   7.187e-05     7.024e-06     2.790e-06   \n",
       "7    9     512      1.972e-03   2.506e-04     1.260e-05     5.061e-06   \n",
       "8   10    1024      9.112e-03   1.110e-03     2.828e-05     1.213e-05   \n",
       "9   11    2048      3.565e-02   4.210e-03     5.251e-05     2.227e-05   \n",
       "10  12    4096      1.534e-01   1.806e-02     1.042e-04     4.873e-05   \n",
       "11  13    8192            NaN         NaN     1.986e-04     9.639e-05   \n",
       "12  14   16384            NaN         NaN     5.095e-04     1.900e-04   \n",
       "13  15   32768            NaN         NaN     1.242e-03     3.918e-04   \n",
       "14  16   65536            NaN         NaN     2.677e-03     7.930e-04   \n",
       "15  17  131072            NaN         NaN     5.149e-03     1.575e-03   \n",
       "16  18  262144            NaN         NaN     1.148e-02     3.126e-03   \n",
       "17  19  524288            NaN         NaN     2.161e-02     6.315e-03   \n",
       "\n",
       "    ratio_indexes_naive  ratio_indexes_in  ratio_indexes_sort  \\\n",
       "0                 1.690             0.551               1.328   \n",
       "1                 3.887             0.913               1.830   \n",
       "2                 9.135             1.574               2.226   \n",
       "3                16.758             3.023               2.552   \n",
       "4                41.389             6.529               2.628   \n",
       "5                88.174            13.043               2.455   \n",
       "6               192.452            25.763               2.518   \n",
       "7               389.556            49.519               2.490   \n",
       "8               751.227            91.553               2.332   \n",
       "9              1600.557           189.042               2.358   \n",
       "10             3147.183           370.601               2.139   \n",
       "11                  NaN               NaN               2.060   \n",
       "12                  NaN               NaN               2.681   \n",
       "13                  NaN               NaN               3.170   \n",
       "14                  NaN               NaN               3.375   \n",
       "15                  NaN               NaN               3.269   \n",
       "16                  NaN               NaN               3.674   \n",
       "17                  NaN               NaN               3.422   \n",
       "\n",
       "    ratio_indexes_fast  \n",
       "0                  1.0  \n",
       "1                  1.0  \n",
       "2                  1.0  \n",
       "3                  1.0  \n",
       "4                  1.0  \n",
       "5                  1.0  \n",
       "6                  1.0  \n",
       "7                  1.0  \n",
       "8                  1.0  \n",
       "9                  1.0  \n",
       "10                 1.0  \n",
       "11                 1.0  \n",
       "12                 1.0  \n",
       "13                 1.0  \n",
       "14                 1.0  \n",
       "15                 1.0  \n",
       "16                 1.0  \n",
       "17                 1.0  "
      ]
     },
     "execution_count": 97,
     "metadata": {},
     "output_type": "execute_result"
    }
   ],
   "source": [
    "res = pd.DataFrame(timings).transpose().reset_index()\n",
    "res.columns = ['n', 'indexes_naive', 'indexes_in', 'indexes_sort', 'indexes_fast']\n",
    "res['n_elem'] = 2**res['n']\n",
    "res = res[['n', 'n_elem', 'indexes_naive', 'indexes_in', 'indexes_sort', 'indexes_fast']]\n",
    "for column in ['indexes_naive', 'indexes_in', 'indexes_sort', 'indexes_fast']:\n",
    "    res.loc[res[column] == 0, column] = np.nan\n",
    "    res[\"ratio_\" + column] = res[column]/res['indexes_fast']\n",
    "    \n",
    "res"
   ]
  },
  {
   "cell_type": "markdown",
   "metadata": {},
   "source": [
    "По цифрам видно, как все прочие алгоритмы отстают от алгоритма со словарем c ростом `n`. Отобразим это графически:"
   ]
  },
  {
   "cell_type": "code",
   "execution_count": 99,
   "metadata": {},
   "outputs": [
    {
     "data": {
      "text/plain": [
       "<AxesSubplot:xlabel='n_elem'>"
      ]
     },
     "execution_count": 99,
     "metadata": {},
     "output_type": "execute_result"
    },
    {
     "data": {
      "image/png": "[encoded data removed]",
      "text/plain": [
       "<Figure size 432x288 with 1 Axes>"
      ]
     },
     "metadata": {
      "needs_background": "light"
     },
     "output_type": "display_data"
    }
   ],
   "source": [
    "res.plot(x = \"n_elem\", y = [\"indexes_naive\", \"indexes_in\", \"indexes_sort\", \"indexes_fast\"], loglog = True)\n"
   ]
  },
  {
   "cell_type": "markdown",
   "metadata": {},
   "source": [
    "На графике не очень заметно, что отставание алгоритма с сортировкой от алгоритма со словарем все больше увеличивается с ростом размера списка. Разделим каждый тайминг на его предполагаемую асимптотику - должна получится константа и графики в какой-то момент выйдут на горизонтальную линию."
   ]
  },
  {
   "cell_type": "code",
   "execution_count": 111,
   "metadata": {},
   "outputs": [
    {
     "data": {
      "text/plain": [
       "<AxesSubplot:xlabel='n_elem'>"
      ]
     },
     "execution_count": 111,
     "metadata": {},
     "output_type": "execute_result"
    },
    {
     "data": {
      "image/png": "[encoded data removed]",
      "text/plain": [
       "<Figure size 432x288 with 1 Axes>"
      ]
     },
     "metadata": {
      "needs_background": "light"
     },
     "output_type": "display_data"
    },
    {
     "data": {
      "image/png": "[encoded data removed]",
      "text/plain": [
       "<Figure size 432x288 with 1 Axes>"
      ]
     },
     "metadata": {
      "needs_background": "light"
     },
     "output_type": "display_data"
    }
   ],
   "source": [
    "res[\"o_n2_naive\"] = res['indexes_naive']/res['n_elem']/res['n_elem']\n",
    "res[\"o_n2_in\"] = res['indexes_in']/res['n_elem']/res['n_elem']\n",
    "res[\"o_nlogn\"] = res['indexes_sort']/res['n_elem']/np.log(res['n_elem'])\n",
    "res[\"o_n\"] = res['indexes_fast']/res['n_elem']\n",
    "res.plot(x = \"n_elem\", y = [\"o_n2_naive\", \"o_n2_in\"], logy = True)\n",
    "res.plot(x = \"n_elem\", y = [\"o_nlogn\", \"o_n\"], logy = True)"
   ]
  },
  {
   "cell_type": "markdown",
   "metadata": {},
   "source": [
    "Практика совпала с теорией. \n",
    "\n",
    "## Выводы\n",
    "\n",
    "В принципе, простая задача, однако на ней можно узнать интересные вещи и про алгоритмы, и про внутреннее устройство Питона."
   ]
  },
  {
   "cell_type": "markdown",
   "metadata": {},
   "source": []
  }
 ],
 "metadata": {
  "interpreter": {
   "hash": "ee7c63658842fc710d2ed446002b803268a8731b4ccd1ac529256b79ceff25b1"
  },
  "kernelspec": {
   "display_name": "Python 3.9.5 64-bit ('base': conda)",
   "language": "python",
   "name": "python3"
  },
  "language_info": {
   "codemirror_mode": {
    "name": "ipython",
    "version": 3
   },
   "file_extension": ".py",
   "mimetype": "text/x-python",
   "name": "python",
   "nbconvert_exporter": "python",
   "pygments_lexer": "ipython3",
   "version": "3.9.5"
  },
  "orig_nbformat": 4
 },
 "nbformat": 4,
 "nbformat_minor": 2
}
