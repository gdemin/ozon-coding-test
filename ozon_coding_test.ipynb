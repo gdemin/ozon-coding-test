{
 "cells": [
  {
   "cell_type": "code",
   "execution_count": 66,
   "metadata": {},
   "outputs": [],
   "source": [
    "from timeit import timeit\n",
    "from random import shuffle\n",
    "import pandas as pd\n",
    "import datetime\n",
    "import numpy as np"
   ]
  },
  {
   "cell_type": "code",
   "execution_count": 14,
   "metadata": {},
   "outputs": [],
   "source": [
    "def indexes_naive(lst, target):      \n",
    "    for item_i, item1 in enumerate(lst):\n",
    "        for item_j, item2 in enumerate(lst):\n",
    "            if item_i != item_j and item1 + item2 == target:\n",
    "                return [item_i, item_j]"
   ]
  },
  {
   "cell_type": "code",
   "execution_count": 16,
   "metadata": {},
   "outputs": [],
   "source": [
    "def indexes_in (lst, target):\n",
    "\tfor i, val in enumerate(lst):\n",
    "\t\tif (target - val) in lst and i != lst.index(target - val):\n",
    "\t\t\treturn [i, lst.index(target - val)]"
   ]
  },
  {
   "cell_type": "code",
   "execution_count": 17,
   "metadata": {},
   "outputs": [
    {
     "name": "stdout",
     "output_type": "stream",
     "text": [
      "[1, 2]\n",
      "[1, 2]\n",
      "[1, 2]\n"
     ]
    }
   ],
   "source": [
    "nums = [15, 2, 7, 11, 8]\n",
    "target = 9\n",
    "print(indexes_naive(nums, target))\n",
    "print(indexes_in(nums, target))"
   ]
  },
  {
   "cell_type": "code",
   "execution_count": 68,
   "metadata": {},
   "outputs": [
    {
     "name": "stdout",
     "output_type": "stream",
     "text": [
      "2021-12-16 01:23:41.137454 : n = 4\n",
      "2021-12-16 01:23:41.157418 : n = 8\n",
      "2021-12-16 01:23:41.183711 : n = 16\n",
      "2021-12-16 01:23:41.218042 : n = 32\n",
      "2021-12-16 01:23:41.275640 : n = 64\n",
      "2021-12-16 01:23:41.437327 : n = 128\n",
      "2021-12-16 01:23:42.050113 : n = 256\n",
      "2021-12-16 01:23:44.056383 : n = 512\n",
      "2021-12-16 01:23:51.981163 : n = 1024\n",
      "2021-12-16 01:24:31.515005 : n = 2048\n",
      "2021-12-16 01:26:35.828347 : n = 4096\n"
     ]
    },
    {
     "data": {
      "text/plain": [
       "{4: [1.9644300045911223e-05, 1.2177169774076901e-05],\n",
       " 8: [4.6603270238847475e-05, 1.758995967975352e-05],\n",
       " 16: [0.00010958259968901985, 2.9690470473724417e-05],\n",
       " 32: [0.0003217801699065603, 6.48102300328901e-05],\n",
       " 64: [0.0011888629298482556, 0.00019977404001110698],\n",
       " 128: [0.004992127519726637, 0.0007825358799163951],\n",
       " 256: [0.01708116384994355, 0.0025095695098571015],\n",
       " 512: [0.06958129496044421, 0.009035939710083768],\n",
       " 1024: [0.3515338666791649, 0.04302220692989067],\n",
       " 2048: [1.1078469314607355, 0.13402593689963396],\n",
       " 4096: [4.043115154280095, 0.47927706563001266]}"
      ]
     },
     "execution_count": 68,
     "metadata": {},
     "output_type": "execute_result"
    }
   ],
   "source": [
    "# словарь, ключ - длина списка без двух элементов, значение - список с двумя таймингами\n",
    "timings = {}\n",
    "for i in range(2, 13):\n",
    "    timings[2**i] = [0, 0]\n",
    "    \n",
    "# print(timings)\n",
    "# Мы будем использовать значения 2 и 7, а остальные - нули\n",
    "\n",
    "repeats = 10 # сколько перестановок делать\n",
    "local_repeats = 5 # количество повторений с одинаковым списком\n",
    "\n",
    "for n in timings:\n",
    "\tprint(datetime.datetime.now(), \": n =\", n)\n",
    "\tcurr = [2, 7] + [0]*n \n",
    "\tfor _ in range(100):\n",
    "\t\tshuffle(curr)\n",
    "\t\t# print(curr)\n",
    "\t\ttimings[n][0] += timeit(lambda: indexes_naive(curr, target), number = local_repeats)\n",
    "\t\ttimings[n][1] += timeit(lambda: indexes_in(curr, target), number = local_repeats)\n",
    "  \n",
    "\ttimings[n][0] /= local_repeats*repeats\n",
    "\ttimings[n][1] /= local_repeats*repeats\n",
    "\n",
    "timings"
   ]
  },
  {
   "cell_type": "code",
   "execution_count": 72,
   "metadata": {},
   "outputs": [
    {
     "data": {
      "text/html": [
       "<div>\n",
       "<style scoped>\n",
       "    .dataframe tbody tr th:only-of-type {\n",
       "        vertical-align: middle;\n",
       "    }\n",
       "\n",
       "    .dataframe tbody tr th {\n",
       "        vertical-align: top;\n",
       "    }\n",
       "\n",
       "    .dataframe thead th {\n",
       "        text-align: right;\n",
       "    }\n",
       "</style>\n",
       "<table border=\"1\" class=\"dataframe\">\n",
       "  <thead>\n",
       "    <tr style=\"text-align: right;\">\n",
       "      <th></th>\n",
       "      <th>n</th>\n",
       "      <th>indexes_naive</th>\n",
       "      <th>indexes_in</th>\n",
       "      <th>ratio</th>\n",
       "    </tr>\n",
       "  </thead>\n",
       "  <tbody>\n",
       "    <tr>\n",
       "      <th>0</th>\n",
       "      <td>4</td>\n",
       "      <td>0.000020</td>\n",
       "      <td>0.000012</td>\n",
       "      <td>1.613207</td>\n",
       "    </tr>\n",
       "    <tr>\n",
       "      <th>1</th>\n",
       "      <td>8</td>\n",
       "      <td>0.000047</td>\n",
       "      <td>0.000018</td>\n",
       "      <td>2.649425</td>\n",
       "    </tr>\n",
       "    <tr>\n",
       "      <th>2</th>\n",
       "      <td>16</td>\n",
       "      <td>0.000110</td>\n",
       "      <td>0.000030</td>\n",
       "      <td>3.690834</td>\n",
       "    </tr>\n",
       "    <tr>\n",
       "      <th>3</th>\n",
       "      <td>32</td>\n",
       "      <td>0.000322</td>\n",
       "      <td>0.000065</td>\n",
       "      <td>4.964960</td>\n",
       "    </tr>\n",
       "    <tr>\n",
       "      <th>4</th>\n",
       "      <td>64</td>\n",
       "      <td>0.001189</td>\n",
       "      <td>0.000200</td>\n",
       "      <td>5.951038</td>\n",
       "    </tr>\n",
       "    <tr>\n",
       "      <th>5</th>\n",
       "      <td>128</td>\n",
       "      <td>0.004992</td>\n",
       "      <td>0.000783</td>\n",
       "      <td>6.379423</td>\n",
       "    </tr>\n",
       "    <tr>\n",
       "      <th>6</th>\n",
       "      <td>256</td>\n",
       "      <td>0.017081</td>\n",
       "      <td>0.002510</td>\n",
       "      <td>6.806412</td>\n",
       "    </tr>\n",
       "    <tr>\n",
       "      <th>7</th>\n",
       "      <td>512</td>\n",
       "      <td>0.069581</td>\n",
       "      <td>0.009036</td>\n",
       "      <td>7.700505</td>\n",
       "    </tr>\n",
       "    <tr>\n",
       "      <th>8</th>\n",
       "      <td>1024</td>\n",
       "      <td>0.351534</td>\n",
       "      <td>0.043022</td>\n",
       "      <td>8.170986</td>\n",
       "    </tr>\n",
       "    <tr>\n",
       "      <th>9</th>\n",
       "      <td>2048</td>\n",
       "      <td>1.107847</td>\n",
       "      <td>0.134026</td>\n",
       "      <td>8.265914</td>\n",
       "    </tr>\n",
       "    <tr>\n",
       "      <th>10</th>\n",
       "      <td>4096</td>\n",
       "      <td>4.043115</td>\n",
       "      <td>0.479277</td>\n",
       "      <td>8.435862</td>\n",
       "    </tr>\n",
       "  </tbody>\n",
       "</table>\n",
       "</div>"
      ],
      "text/plain": [
       "       n  indexes_naive  indexes_in     ratio\n",
       "0      4       0.000020    0.000012  1.613207\n",
       "1      8       0.000047    0.000018  2.649425\n",
       "2     16       0.000110    0.000030  3.690834\n",
       "3     32       0.000322    0.000065  4.964960\n",
       "4     64       0.001189    0.000200  5.951038\n",
       "5    128       0.004992    0.000783  6.379423\n",
       "6    256       0.017081    0.002510  6.806412\n",
       "7    512       0.069581    0.009036  7.700505\n",
       "8   1024       0.351534    0.043022  8.170986\n",
       "9   2048       1.107847    0.134026  8.265914\n",
       "10  4096       4.043115    0.479277  8.435862"
      ]
     },
     "execution_count": 72,
     "metadata": {},
     "output_type": "execute_result"
    }
   ],
   "source": [
    "res = pd.DataFrame(timings).transpose().reset_index()\n",
    "res.columns = ['n', 'indexes_naive', 'indexes_in']\n",
    "res['ratio'] = res['indexes_naive']/res['indexes_in']\n",
    "res"
   ]
  },
  {
   "cell_type": "code",
   "execution_count": 73,
   "metadata": {},
   "outputs": [
    {
     "data": {
      "text/plain": [
       "<AxesSubplot:xlabel='n'>"
      ]
     },
     "execution_count": 73,
     "metadata": {},
     "output_type": "execute_result"
    },
    {
     "data": {
      "image/png": "[encoded data removed]",
      "text/plain": [
       "<Figure size 432x288 with 1 Axes>"
      ]
     },
     "metadata": {
      "needs_background": "light"
     },
     "output_type": "display_data"
    }
   ],
   "source": [
    "res.plot(x = \"n\", y = [\"indexes_naive\", \"indexes_in\"], loglog = True)"
   ]
  }
 ],
 "metadata": {
  "interpreter": {
   "hash": "ee7c63658842fc710d2ed446002b803268a8731b4ccd1ac529256b79ceff25b1"
  },
  "kernelspec": {
   "display_name": "Python 3.9.5 64-bit ('base': conda)",
   "language": "python",
   "name": "python3"
  },
  "language_info": {
   "codemirror_mode": {
    "name": "ipython",
    "version": 3
   },
   "file_extension": ".py",
   "mimetype": "text/x-python",
   "name": "python",
   "nbconvert_exporter": "python",
   "pygments_lexer": "ipython3",
   "version": "3.9.5"
  },
  "orig_nbformat": 4
 },
 "nbformat": 4,
 "nbformat_minor": 2
}
