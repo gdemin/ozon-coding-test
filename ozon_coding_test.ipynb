{
 "cells": [
  {
   "cell_type": "code",
   "execution_count": 9,
   "metadata": {},
   "outputs": [],
   "source": [
    "from timeit import timeit\n",
    "from random import shuffle\n",
    "import pandas as pd\n",
    "import datetime\n",
    "import numpy as np"
   ]
  },
  {
   "cell_type": "code",
   "execution_count": 10,
   "metadata": {},
   "outputs": [],
   "source": [
    "def indexes_naive(lst, target):      \n",
    "    for item_i, item1 in enumerate(lst):\n",
    "        for item_j, item2 in enumerate(lst):\n",
    "            if item_i != item_j and item1 + item2 == target:\n",
    "                return [item_i, item_j]"
   ]
  },
  {
   "cell_type": "code",
   "execution_count": 11,
   "metadata": {},
   "outputs": [],
   "source": [
    "def indexes_in (lst, target):\n",
    "\tfor i, val in enumerate(lst):\n",
    "\t\tif (target - val) in lst and i != lst.index(target - val):\n",
    "\t\t\treturn [i, lst.index(target - val)]"
   ]
  },
  {
   "cell_type": "code",
   "execution_count": 15,
   "metadata": {},
   "outputs": [],
   "source": [
    "def indexes_sort(lst, target):\n",
    "    sorted_lst, old_index = zip(*sorted(zip(lst, range(len(lst)))))\n",
    "    finger1, finger2 = 0, len(sorted_lst)-1\n",
    "    while finger1 != finger2:\n",
    "        cur_sum = sorted_lst[finger1] + sorted_lst[finger2]\n",
    "        if cur_sum < target:\n",
    "            finger1 += 1\n",
    "        elif cur_sum > target:\n",
    "            finger2 -= 1\n",
    "        else:\n",
    "            return [old_index[finger1], old_index[finger2]] "
   ]
  },
  {
   "cell_type": "code",
   "execution_count": 18,
   "metadata": {},
   "outputs": [
    {
     "data": {
      "text/plain": [
       "{1: 0, 3: 1, 2: 2}"
      ]
     },
     "execution_count": 18,
     "metadata": {},
     "output_type": "execute_result"
    }
   ],
   "source": [
    "a = [1,3,2]\n",
    "dict(zip(a, range(len(a))))"
   ]
  },
  {
   "cell_type": "code",
   "execution_count": 24,
   "metadata": {},
   "outputs": [],
   "source": [
    "# based on https://stackoverflow.com/a/8373832/387408\n",
    "def indexes_fast(lst, target):\n",
    "    # если у нас два одинаковых числа образуют сумму, то словарь попадет индекс последнего\n",
    "    # из-за этого мы не выведем два одинаковых индекса\n",
    "    lst_dict = dict(zip(lst, range(len(lst))))\n",
    "    for index_i, item_i in enumerate(lst):\n",
    "        if target - item_i in lst_dict: \n",
    "            return [index_i, lst_dict[target - item_i]]"
   ]
  },
  {
   "cell_type": "code",
   "execution_count": 22,
   "metadata": {},
   "outputs": [
    {
     "name": "stdout",
     "output_type": "stream",
     "text": [
      "[1, 2]\n",
      "[1, 2]\n",
      "[1, 2]\n",
      "[1, 2]\n"
     ]
    }
   ],
   "source": [
    "nums = [15, 2, 7, 11, 8]\n",
    "target = 9\n",
    "print(indexes_naive(nums, target))\n",
    "print(indexes_in(nums, target))\n",
    "print(indexes_sort(nums, target))\n",
    "print(indexes_fast(nums, target))"
   ]
  },
  {
   "cell_type": "code",
   "execution_count": 25,
   "metadata": {},
   "outputs": [
    {
     "name": "stdout",
     "output_type": "stream",
     "text": [
      "[2, 3]\n",
      "[3, 2]\n",
      "[2, 3]\n",
      "[2, 3]\n"
     ]
    }
   ],
   "source": [
    "nums = [0, 0, 4, 4, 0, 0]\n",
    "target = 8\n",
    "print(indexes_naive(nums, target))\n",
    "print(indexes_in(nums, target))\n",
    "print(indexes_sort(nums, target))\n",
    "print(indexes_fast(nums, target))"
   ]
  },
  {
   "cell_type": "code",
   "execution_count": 39,
   "metadata": {},
   "outputs": [
    {
     "name": "stdout",
     "output_type": "stream",
     "text": [
      "2021-12-19 02:56:37.372628 : n = 4\n",
      "2021-12-19 02:56:37.393381 : n = 8\n",
      "2021-12-19 02:56:37.415782 : n = 16\n",
      "2021-12-19 02:56:37.442949 : n = 32\n",
      "2021-12-19 02:56:37.474491 : n = 64\n",
      "2021-12-19 02:56:37.510067 : n = 128\n",
      "2021-12-19 02:56:37.564884 : n = 256\n",
      "2021-12-19 02:56:37.645109 : n = 512\n",
      "2021-12-19 02:56:37.798871 : n = 1024\n",
      "2021-12-19 02:56:38.067851 : n = 2048\n",
      "2021-12-19 02:56:38.691802 : n = 4096\n",
      "2021-12-19 02:56:39.857074 : n = 8192\n",
      "2021-12-19 02:56:41.875528 : n = 16384\n",
      "2021-12-19 02:56:46.169283 : n = 32768\n",
      "2021-12-19 02:56:55.643345 : n = 65536\n",
      "2021-12-19 02:57:14.277629 : n = 131072\n",
      "2021-12-19 02:57:53.566164 : n = 262144\n",
      "2021-12-19 02:59:15.023598 : n = 524288\n"
     ]
    }
   ],
   "source": [
    "# словарь, ключ - длина списка без двух элементов, значение - список с двумя таймингами\n",
    "timings = {}\n",
    "funs = [# lambda: indexes_naive(curr, target), \n",
    "         # lambda: indexes_in(curr, target), \n",
    "        lambda: indexes_sort(curr, target),\n",
    "        lambda: indexes_fast(curr, target)\n",
    "        ]\n",
    "for i in range(2, 20):\n",
    "    timings[2**i] = [0]*len(funs)\n",
    "    \n",
    "# print(timings)\n",
    "# Мы будем использовать значения 2 и 7, а остальные - нули\n",
    "\n",
    "repeats = 10 # сколько перестановок делать\n",
    "local_repeats = 5 # количество повторений с одинаковым списком\n",
    "\n",
    "for n in timings:\n",
    "\tprint(datetime.datetime.now(), \": n =\", n)\n",
    "\tcurr = [2, 7] + [0]*n \n",
    "\tfor _ in range(100):\n",
    "\t\tshuffle(curr)\n",
    "\t\t# print(curr)\n",
    "\t\tfor i,_ in enumerate(funs):\n",
    "\t\t\ttimings[n][i] += timeit(funs[i], number = local_repeats)\n",
    "\t\t\t\n",
    "\t\tfor i,_ in enumerate(funs):\n",
    "\t\t\ttimings[n][i] /= local_repeats*repeats\n",
    "\n",
    "# timings"
   ]
  },
  {
   "cell_type": "code",
   "execution_count": 56,
   "metadata": {},
   "outputs": [
    {
     "data": {
      "text/html": [
       "<div>\n",
       "<style scoped>\n",
       "    .dataframe tbody tr th:only-of-type {\n",
       "        vertical-align: middle;\n",
       "    }\n",
       "\n",
       "    .dataframe tbody tr th {\n",
       "        vertical-align: top;\n",
       "    }\n",
       "\n",
       "    .dataframe thead th {\n",
       "        text-align: right;\n",
       "    }\n",
       "</style>\n",
       "<table border=\"1\" class=\"dataframe\">\n",
       "  <thead>\n",
       "    <tr style=\"text-align: right;\">\n",
       "      <th></th>\n",
       "      <th>n</th>\n",
       "      <th>indexes_sort</th>\n",
       "      <th>indexes_fast</th>\n",
       "    </tr>\n",
       "  </thead>\n",
       "  <tbody>\n",
       "    <tr>\n",
       "      <th>0</th>\n",
       "      <td>4</td>\n",
       "      <td>6.162932e-08</td>\n",
       "      <td>5.247661e-08</td>\n",
       "    </tr>\n",
       "    <tr>\n",
       "      <th>1</th>\n",
       "      <td>8</td>\n",
       "      <td>3.874616e-08</td>\n",
       "      <td>4.781537e-08</td>\n",
       "    </tr>\n",
       "    <tr>\n",
       "      <th>2</th>\n",
       "      <td>16</td>\n",
       "      <td>2.844520e-08</td>\n",
       "      <td>3.262158e-08</td>\n",
       "    </tr>\n",
       "    <tr>\n",
       "      <th>3</th>\n",
       "      <td>32</td>\n",
       "      <td>1.171403e-08</td>\n",
       "      <td>1.623468e-08</td>\n",
       "    </tr>\n",
       "    <tr>\n",
       "      <th>4</th>\n",
       "      <td>64</td>\n",
       "      <td>7.568914e-09</td>\n",
       "      <td>1.302200e-08</td>\n",
       "    </tr>\n",
       "    <tr>\n",
       "      <th>5</th>\n",
       "      <td>128</td>\n",
       "      <td>5.597496e-09</td>\n",
       "      <td>1.128081e-08</td>\n",
       "    </tr>\n",
       "    <tr>\n",
       "      <th>6</th>\n",
       "      <td>256</td>\n",
       "      <td>5.766172e-09</td>\n",
       "      <td>1.082903e-08</td>\n",
       "    </tr>\n",
       "    <tr>\n",
       "      <th>7</th>\n",
       "      <td>512</td>\n",
       "      <td>4.250672e-09</td>\n",
       "      <td>1.155187e-08</td>\n",
       "    </tr>\n",
       "    <tr>\n",
       "      <th>8</th>\n",
       "      <td>1024</td>\n",
       "      <td>3.865630e-09</td>\n",
       "      <td>1.138740e-08</td>\n",
       "    </tr>\n",
       "    <tr>\n",
       "      <th>9</th>\n",
       "      <td>2048</td>\n",
       "      <td>3.815329e-09</td>\n",
       "      <td>1.793843e-08</td>\n",
       "    </tr>\n",
       "    <tr>\n",
       "      <th>10</th>\n",
       "      <td>4096</td>\n",
       "      <td>3.295228e-09</td>\n",
       "      <td>1.200063e-08</td>\n",
       "    </tr>\n",
       "    <tr>\n",
       "      <th>11</th>\n",
       "      <td>8192</td>\n",
       "      <td>2.972601e-09</td>\n",
       "      <td>1.201442e-08</td>\n",
       "    </tr>\n",
       "    <tr>\n",
       "      <th>12</th>\n",
       "      <td>16384</td>\n",
       "      <td>3.308441e-09</td>\n",
       "      <td>1.227428e-08</td>\n",
       "    </tr>\n",
       "    <tr>\n",
       "      <th>13</th>\n",
       "      <td>32768</td>\n",
       "      <td>3.287510e-09</td>\n",
       "      <td>1.285576e-08</td>\n",
       "    </tr>\n",
       "    <tr>\n",
       "      <th>14</th>\n",
       "      <td>65536</td>\n",
       "      <td>3.178150e-09</td>\n",
       "      <td>1.156787e-08</td>\n",
       "    </tr>\n",
       "    <tr>\n",
       "      <th>15</th>\n",
       "      <td>131072</td>\n",
       "      <td>3.425828e-09</td>\n",
       "      <td>1.115441e-08</td>\n",
       "    </tr>\n",
       "    <tr>\n",
       "      <th>16</th>\n",
       "      <td>262144</td>\n",
       "      <td>3.257062e-09</td>\n",
       "      <td>1.146657e-08</td>\n",
       "    </tr>\n",
       "    <tr>\n",
       "      <th>17</th>\n",
       "      <td>524288</td>\n",
       "      <td>3.133563e-09</td>\n",
       "      <td>1.206921e-08</td>\n",
       "    </tr>\n",
       "  </tbody>\n",
       "</table>\n",
       "</div>"
      ],
      "text/plain": [
       "         n  indexes_sort  indexes_fast\n",
       "0        4  6.162932e-08  5.247661e-08\n",
       "1        8  3.874616e-08  4.781537e-08\n",
       "2       16  2.844520e-08  3.262158e-08\n",
       "3       32  1.171403e-08  1.623468e-08\n",
       "4       64  7.568914e-09  1.302200e-08\n",
       "5      128  5.597496e-09  1.128081e-08\n",
       "6      256  5.766172e-09  1.082903e-08\n",
       "7      512  4.250672e-09  1.155187e-08\n",
       "8     1024  3.865630e-09  1.138740e-08\n",
       "9     2048  3.815329e-09  1.793843e-08\n",
       "10    4096  3.295228e-09  1.200063e-08\n",
       "11    8192  2.972601e-09  1.201442e-08\n",
       "12   16384  3.308441e-09  1.227428e-08\n",
       "13   32768  3.287510e-09  1.285576e-08\n",
       "14   65536  3.178150e-09  1.156787e-08\n",
       "15  131072  3.425828e-09  1.115441e-08\n",
       "16  262144  3.257062e-09  1.146657e-08\n",
       "17  524288  3.133563e-09  1.206921e-08"
      ]
     },
     "execution_count": 56,
     "metadata": {},
     "output_type": "execute_result"
    }
   ],
   "source": [
    "res = pd.DataFrame(timings).transpose().reset_index()\n",
    "# res.columns = ['n', 'indexes_naive', 'indexes_in', 'indexes_sort', 'indexes_fast']\n",
    "res.columns = ['n',  'indexes_sort', 'indexes_fast']\n",
    "res['indexes_sort'] /= res['n'] *np.log(res['n'])\n",
    "res['indexes_fast'] /= res['n'] \n",
    "# res['ratio'] = res['indexes_naive']/res['indexes_in']\n",
    "res"
   ]
  },
  {
   "cell_type": "code",
   "execution_count": 57,
   "metadata": {},
   "outputs": [
    {
     "data": {
      "text/plain": [
       "<AxesSubplot:xlabel='n'>"
      ]
     },
     "execution_count": 57,
     "metadata": {},
     "output_type": "execute_result"
    },
    {
     "data": {
      "image/png": "[encoded data removed]",
      "text/plain": [
       "<Figure size 432x288 with 1 Axes>"
      ]
     },
     "metadata": {
      "needs_background": "light"
     },
     "output_type": "display_data"
    }
   ],
   "source": [
    "# res.plot(x = \"n\", y = [\"indexes_naive\", \"indexes_in\", \"indexes_sort\", \"indexes_fast\"], loglog = True)\n",
    "res.plot(x = \"n\", y = [\"indexes_sort\", \"indexes_fast\"], logy = True)"
   ]
  },
  {
   "cell_type": "code",
   "execution_count": null,
   "metadata": {},
   "outputs": [],
   "source": []
  }
 ],
 "metadata": {
  "interpreter": {
   "hash": "ee7c63658842fc710d2ed446002b803268a8731b4ccd1ac529256b79ceff25b1"
  },
  "kernelspec": {
   "display_name": "Python 3.9.5 64-bit ('base': conda)",
   "language": "python",
   "name": "python3"
  },
  "language_info": {
   "codemirror_mode": {
    "name": "ipython",
    "version": 3
   },
   "file_extension": ".py",
   "mimetype": "text/x-python",
   "name": "python",
   "nbconvert_exporter": "python",
   "pygments_lexer": "ipython3",
   "version": "3.9.5"
  },
  "orig_nbformat": 4
 },
 "nbformat": 4,
 "nbformat_minor": 2
}
